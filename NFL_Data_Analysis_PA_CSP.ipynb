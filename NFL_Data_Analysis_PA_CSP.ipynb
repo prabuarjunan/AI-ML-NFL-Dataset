{
  "nbformat": 4,
  "nbformat_minor": 0,
  "metadata": {
    "colab": {
      "provenance": [],
      "toc_visible": true,
      "authorship_tag": "ABX9TyPcUURcTLh2upk194mPqqgD",
      "include_colab_link": true
    },
    "kernelspec": {
      "name": "python3",
      "display_name": "Python 3"
    },
    "language_info": {
      "name": "python"
    }
  },
  "cells": [
    {
      "cell_type": "markdown",
      "metadata": {
        "id": "view-in-github",
        "colab_type": "text"
      },
      "source": [
        "<a href=\"https://colab.research.google.com/github/prabuarjunan/AI-ML-NFL-Dataset/blob/master/NFL_Data_Analysis_PA_CSP.ipynb\" target=\"_parent\"><img src=\"https://colab.research.google.com/assets/colab-badge.svg\" alt=\"Open In Colab\"/></a>"
      ]
    },
    {
      "cell_type": "code",
      "execution_count": 1,
      "metadata": {
        "colab": {
          "base_uri": "https://localhost:8080/",
          "height": 35
        },
        "id": "X7IPLPt5vikA",
        "outputId": "d18508f3-c95d-438a-8b44-c5be59035438"
      },
      "outputs": [
        {
          "output_type": "display_data",
          "data": {
            "application/javascript": [
              "IPython.notebook.set_autosave_interval(60000)"
            ]
          },
          "metadata": {}
        },
        {
          "output_type": "stream",
          "name": "stdout",
          "text": [
            "Autosaving every 60 seconds\n"
          ]
        }
      ],
      "source": [
        "autosave 60"
      ]
    },
    {
      "cell_type": "code",
      "source": [
        "# print all the outputs in a cell\n",
        "from IPython.core.interactiveshell import InteractiveShell\n",
        "InteractiveShell.ast_node_interactivity = \"all\""
      ],
      "metadata": {
        "id": "9c48tPFoxjnS"
      },
      "execution_count": 2,
      "outputs": []
    },
    {
      "cell_type": "code",
      "source": [
        "#installing geopandas\n",
        "#!pip install --upgrade geopandas"
      ],
      "metadata": {
        "id": "V6md-WysxmKz"
      },
      "execution_count": 3,
      "outputs": []
    },
    {
      "cell_type": "code",
      "source": [
        "#importing packages for data analysis\n",
        "import pandas as pd\n",
        "import numpy as np\n",
        "import plotly.express as px\n",
        "import seaborn as sns\n",
        "#import geopandas as gpd\n",
        "import matplotlib.pyplot as plt"
      ],
      "metadata": {
        "id": "HEofUejYxoP1"
      },
      "execution_count": 4,
      "outputs": []
    },
    {
      "cell_type": "code",
      "source": [
        "#set display options\n",
        "pd.set_option('display.max_columns', None)\n",
        "pd.set_option('display.max_rows', 50)\n",
        "pd.set_option('display.float_format', lambda x: '%.2f' % x)"
      ],
      "metadata": {
        "id": "ZUtFJOwzxquQ"
      },
      "execution_count": 5,
      "outputs": []
    },
    {
      "cell_type": "code",
      "source": [
        "#run this cell to mount your Google drive to the notebook; you need to give it access to your SCU Google drive\n",
        "from google.colab import drive\n",
        "drive.mount('/content/drive')"
      ],
      "metadata": {
        "colab": {
          "base_uri": "https://localhost:8080/"
        },
        "id": "PD7KwlCOxr_8",
        "outputId": "ce9ffe10-e173-462d-93b5-005abd441a3f"
      },
      "execution_count": 6,
      "outputs": [
        {
          "output_type": "stream",
          "name": "stdout",
          "text": [
            "Mounted at /content/drive\n"
          ]
        }
      ]
    },
    {
      "cell_type": "code",
      "source": [
        "#you will need to copy the pathway to whatever data you want to access\n",
        "df_CSP  = pd.read_csv('/content/drive/Shareddrives/Python_NFL_Project/Career_Stats_Passing.csv', index_col=1)"
      ],
      "metadata": {
        "id": "Y3mquv0ExyPq"
      },
      "execution_count": 7,
      "outputs": []
    },
    {
      "cell_type": "code",
      "source": [
        "df_CSP.head()"
      ],
      "metadata": {
        "colab": {
          "base_uri": "https://localhost:8080/",
          "height": 492
        },
        "id": "RoopnYCcx2BZ",
        "outputId": "60ebe8ae-42b0-472b-8000-b4f98247c1e4"
      },
      "execution_count": 8,
      "outputs": [
        {
          "output_type": "execute_result",
          "data": {
            "text/plain": [
              "                       Player Id Position  Year             Team  \\\n",
              "Name                                                               \n",
              "Farris, Tom    tomfarris/2513861      NaN  1948  Chicago Rockets   \n",
              "Farris, Tom    tomfarris/2513861      NaN  1947    Chicago Bears   \n",
              "Farris, Tom    tomfarris/2513861      NaN  1946    Chicago Bears   \n",
              "Demory, Bill  billdemory/2512778      NaN  1974    New York Jets   \n",
              "Demory, Bill  billdemory/2512778      NaN  1973    New York Jets   \n",
              "\n",
              "              Games Played Passes Attempted Passes Completed  \\\n",
              "Name                                                           \n",
              "Farris, Tom              0               --               --   \n",
              "Farris, Tom              9                2                0   \n",
              "Farris, Tom             11               21                8   \n",
              "Demory, Bill             1               --               --   \n",
              "Demory, Bill             6               39               12   \n",
              "\n",
              "             Completion Percentage  Pass Attempts Per Game Passing Yards  \\\n",
              "Name                                                                       \n",
              "Farris, Tom                     --                    0.00            --   \n",
              "Farris, Tom                    0.0                    0.20             0   \n",
              "Farris, Tom                   38.1                    1.90           108   \n",
              "Demory, Bill                    --                    0.00            --   \n",
              "Demory, Bill                  30.8                    6.50           159   \n",
              "\n",
              "             Passing Yards Per Attempt Passing Yards Per Game TD Passes  \\\n",
              "Name                                                                      \n",
              "Farris, Tom                         --                     --        --   \n",
              "Farris, Tom                        0.0                    0.0         0   \n",
              "Farris, Tom                        5.1                    9.8         1   \n",
              "Demory, Bill                        --                     --        --   \n",
              "Demory, Bill                       4.1                   26.5         2   \n",
              "\n",
              "             Percentage of TDs per Attempts Ints Int Rate Longest Pass  \\\n",
              "Name                                                                     \n",
              "Farris, Tom                              --   --       --           --   \n",
              "Farris, Tom                             0.0    0      0.0           --   \n",
              "Farris, Tom                             4.8    2      9.5           --   \n",
              "Demory, Bill                             --   --       --           --   \n",
              "Demory, Bill                            5.1    8     20.5           --   \n",
              "\n",
              "             Passes Longer than 20 Yards Passes Longer than 40 Yards Sacks  \\\n",
              "Name                                                                         \n",
              "Farris, Tom                           --                          --    --   \n",
              "Farris, Tom                            0                           0     0   \n",
              "Farris, Tom                            0                           0     0   \n",
              "Demory, Bill                          --                          --    --   \n",
              "Demory, Bill                           0                           0     8   \n",
              "\n",
              "             Sacked Yards Lost  Passer Rating  \n",
              "Name                                           \n",
              "Farris, Tom                 --           0.00  \n",
              "Farris, Tom                  0          39.60  \n",
              "Farris, Tom                  0          31.50  \n",
              "Demory, Bill                --           0.00  \n",
              "Demory, Bill                73          22.20  "
            ],
            "text/html": [
              "\n",
              "  <div id=\"df-198787d1-c8fe-4024-937b-8cbd3351d9a4\">\n",
              "    <div class=\"colab-df-container\">\n",
              "      <div>\n",
              "<style scoped>\n",
              "    .dataframe tbody tr th:only-of-type {\n",
              "        vertical-align: middle;\n",
              "    }\n",
              "\n",
              "    .dataframe tbody tr th {\n",
              "        vertical-align: top;\n",
              "    }\n",
              "\n",
              "    .dataframe thead th {\n",
              "        text-align: right;\n",
              "    }\n",
              "</style>\n",
              "<table border=\"1\" class=\"dataframe\">\n",
              "  <thead>\n",
              "    <tr style=\"text-align: right;\">\n",
              "      <th></th>\n",
              "      <th>Player Id</th>\n",
              "      <th>Position</th>\n",
              "      <th>Year</th>\n",
              "      <th>Team</th>\n",
              "      <th>Games Played</th>\n",
              "      <th>Passes Attempted</th>\n",
              "      <th>Passes Completed</th>\n",
              "      <th>Completion Percentage</th>\n",
              "      <th>Pass Attempts Per Game</th>\n",
              "      <th>Passing Yards</th>\n",
              "      <th>Passing Yards Per Attempt</th>\n",
              "      <th>Passing Yards Per Game</th>\n",
              "      <th>TD Passes</th>\n",
              "      <th>Percentage of TDs per Attempts</th>\n",
              "      <th>Ints</th>\n",
              "      <th>Int Rate</th>\n",
              "      <th>Longest Pass</th>\n",
              "      <th>Passes Longer than 20 Yards</th>\n",
              "      <th>Passes Longer than 40 Yards</th>\n",
              "      <th>Sacks</th>\n",
              "      <th>Sacked Yards Lost</th>\n",
              "      <th>Passer Rating</th>\n",
              "    </tr>\n",
              "    <tr>\n",
              "      <th>Name</th>\n",
              "      <th></th>\n",
              "      <th></th>\n",
              "      <th></th>\n",
              "      <th></th>\n",
              "      <th></th>\n",
              "      <th></th>\n",
              "      <th></th>\n",
              "      <th></th>\n",
              "      <th></th>\n",
              "      <th></th>\n",
              "      <th></th>\n",
              "      <th></th>\n",
              "      <th></th>\n",
              "      <th></th>\n",
              "      <th></th>\n",
              "      <th></th>\n",
              "      <th></th>\n",
              "      <th></th>\n",
              "      <th></th>\n",
              "      <th></th>\n",
              "      <th></th>\n",
              "      <th></th>\n",
              "    </tr>\n",
              "  </thead>\n",
              "  <tbody>\n",
              "    <tr>\n",
              "      <th>Farris, Tom</th>\n",
              "      <td>tomfarris/2513861</td>\n",
              "      <td>NaN</td>\n",
              "      <td>1948</td>\n",
              "      <td>Chicago Rockets</td>\n",
              "      <td>0</td>\n",
              "      <td>--</td>\n",
              "      <td>--</td>\n",
              "      <td>--</td>\n",
              "      <td>0.00</td>\n",
              "      <td>--</td>\n",
              "      <td>--</td>\n",
              "      <td>--</td>\n",
              "      <td>--</td>\n",
              "      <td>--</td>\n",
              "      <td>--</td>\n",
              "      <td>--</td>\n",
              "      <td>--</td>\n",
              "      <td>--</td>\n",
              "      <td>--</td>\n",
              "      <td>--</td>\n",
              "      <td>--</td>\n",
              "      <td>0.00</td>\n",
              "    </tr>\n",
              "    <tr>\n",
              "      <th>Farris, Tom</th>\n",
              "      <td>tomfarris/2513861</td>\n",
              "      <td>NaN</td>\n",
              "      <td>1947</td>\n",
              "      <td>Chicago Bears</td>\n",
              "      <td>9</td>\n",
              "      <td>2</td>\n",
              "      <td>0</td>\n",
              "      <td>0.0</td>\n",
              "      <td>0.20</td>\n",
              "      <td>0</td>\n",
              "      <td>0.0</td>\n",
              "      <td>0.0</td>\n",
              "      <td>0</td>\n",
              "      <td>0.0</td>\n",
              "      <td>0</td>\n",
              "      <td>0.0</td>\n",
              "      <td>--</td>\n",
              "      <td>0</td>\n",
              "      <td>0</td>\n",
              "      <td>0</td>\n",
              "      <td>0</td>\n",
              "      <td>39.60</td>\n",
              "    </tr>\n",
              "    <tr>\n",
              "      <th>Farris, Tom</th>\n",
              "      <td>tomfarris/2513861</td>\n",
              "      <td>NaN</td>\n",
              "      <td>1946</td>\n",
              "      <td>Chicago Bears</td>\n",
              "      <td>11</td>\n",
              "      <td>21</td>\n",
              "      <td>8</td>\n",
              "      <td>38.1</td>\n",
              "      <td>1.90</td>\n",
              "      <td>108</td>\n",
              "      <td>5.1</td>\n",
              "      <td>9.8</td>\n",
              "      <td>1</td>\n",
              "      <td>4.8</td>\n",
              "      <td>2</td>\n",
              "      <td>9.5</td>\n",
              "      <td>--</td>\n",
              "      <td>0</td>\n",
              "      <td>0</td>\n",
              "      <td>0</td>\n",
              "      <td>0</td>\n",
              "      <td>31.50</td>\n",
              "    </tr>\n",
              "    <tr>\n",
              "      <th>Demory, Bill</th>\n",
              "      <td>billdemory/2512778</td>\n",
              "      <td>NaN</td>\n",
              "      <td>1974</td>\n",
              "      <td>New York Jets</td>\n",
              "      <td>1</td>\n",
              "      <td>--</td>\n",
              "      <td>--</td>\n",
              "      <td>--</td>\n",
              "      <td>0.00</td>\n",
              "      <td>--</td>\n",
              "      <td>--</td>\n",
              "      <td>--</td>\n",
              "      <td>--</td>\n",
              "      <td>--</td>\n",
              "      <td>--</td>\n",
              "      <td>--</td>\n",
              "      <td>--</td>\n",
              "      <td>--</td>\n",
              "      <td>--</td>\n",
              "      <td>--</td>\n",
              "      <td>--</td>\n",
              "      <td>0.00</td>\n",
              "    </tr>\n",
              "    <tr>\n",
              "      <th>Demory, Bill</th>\n",
              "      <td>billdemory/2512778</td>\n",
              "      <td>NaN</td>\n",
              "      <td>1973</td>\n",
              "      <td>New York Jets</td>\n",
              "      <td>6</td>\n",
              "      <td>39</td>\n",
              "      <td>12</td>\n",
              "      <td>30.8</td>\n",
              "      <td>6.50</td>\n",
              "      <td>159</td>\n",
              "      <td>4.1</td>\n",
              "      <td>26.5</td>\n",
              "      <td>2</td>\n",
              "      <td>5.1</td>\n",
              "      <td>8</td>\n",
              "      <td>20.5</td>\n",
              "      <td>--</td>\n",
              "      <td>0</td>\n",
              "      <td>0</td>\n",
              "      <td>8</td>\n",
              "      <td>73</td>\n",
              "      <td>22.20</td>\n",
              "    </tr>\n",
              "  </tbody>\n",
              "</table>\n",
              "</div>\n",
              "      <button class=\"colab-df-convert\" onclick=\"convertToInteractive('df-198787d1-c8fe-4024-937b-8cbd3351d9a4')\"\n",
              "              title=\"Convert this dataframe to an interactive table.\"\n",
              "              style=\"display:none;\">\n",
              "        \n",
              "  <svg xmlns=\"http://www.w3.org/2000/svg\" height=\"24px\"viewBox=\"0 0 24 24\"\n",
              "       width=\"24px\">\n",
              "    <path d=\"M0 0h24v24H0V0z\" fill=\"none\"/>\n",
              "    <path d=\"M18.56 5.44l.94 2.06.94-2.06 2.06-.94-2.06-.94-.94-2.06-.94 2.06-2.06.94zm-11 1L8.5 8.5l.94-2.06 2.06-.94-2.06-.94L8.5 2.5l-.94 2.06-2.06.94zm10 10l.94 2.06.94-2.06 2.06-.94-2.06-.94-.94-2.06-.94 2.06-2.06.94z\"/><path d=\"M17.41 7.96l-1.37-1.37c-.4-.4-.92-.59-1.43-.59-.52 0-1.04.2-1.43.59L10.3 9.45l-7.72 7.72c-.78.78-.78 2.05 0 2.83L4 21.41c.39.39.9.59 1.41.59.51 0 1.02-.2 1.41-.59l7.78-7.78 2.81-2.81c.8-.78.8-2.07 0-2.86zM5.41 20L4 18.59l7.72-7.72 1.47 1.35L5.41 20z\"/>\n",
              "  </svg>\n",
              "      </button>\n",
              "      \n",
              "  <style>\n",
              "    .colab-df-container {\n",
              "      display:flex;\n",
              "      flex-wrap:wrap;\n",
              "      gap: 12px;\n",
              "    }\n",
              "\n",
              "    .colab-df-convert {\n",
              "      background-color: #E8F0FE;\n",
              "      border: none;\n",
              "      border-radius: 50%;\n",
              "      cursor: pointer;\n",
              "      display: none;\n",
              "      fill: #1967D2;\n",
              "      height: 32px;\n",
              "      padding: 0 0 0 0;\n",
              "      width: 32px;\n",
              "    }\n",
              "\n",
              "    .colab-df-convert:hover {\n",
              "      background-color: #E2EBFA;\n",
              "      box-shadow: 0px 1px 2px rgba(60, 64, 67, 0.3), 0px 1px 3px 1px rgba(60, 64, 67, 0.15);\n",
              "      fill: #174EA6;\n",
              "    }\n",
              "\n",
              "    [theme=dark] .colab-df-convert {\n",
              "      background-color: #3B4455;\n",
              "      fill: #D2E3FC;\n",
              "    }\n",
              "\n",
              "    [theme=dark] .colab-df-convert:hover {\n",
              "      background-color: #434B5C;\n",
              "      box-shadow: 0px 1px 3px 1px rgba(0, 0, 0, 0.15);\n",
              "      filter: drop-shadow(0px 1px 2px rgba(0, 0, 0, 0.3));\n",
              "      fill: #FFFFFF;\n",
              "    }\n",
              "  </style>\n",
              "\n",
              "      <script>\n",
              "        const buttonEl =\n",
              "          document.querySelector('#df-198787d1-c8fe-4024-937b-8cbd3351d9a4 button.colab-df-convert');\n",
              "        buttonEl.style.display =\n",
              "          google.colab.kernel.accessAllowed ? 'block' : 'none';\n",
              "\n",
              "        async function convertToInteractive(key) {\n",
              "          const element = document.querySelector('#df-198787d1-c8fe-4024-937b-8cbd3351d9a4');\n",
              "          const dataTable =\n",
              "            await google.colab.kernel.invokeFunction('convertToInteractive',\n",
              "                                                     [key], {});\n",
              "          if (!dataTable) return;\n",
              "\n",
              "          const docLinkHtml = 'Like what you see? Visit the ' +\n",
              "            '<a target=\"_blank\" href=https://colab.research.google.com/notebooks/data_table.ipynb>data table notebook</a>'\n",
              "            + ' to learn more about interactive tables.';\n",
              "          element.innerHTML = '';\n",
              "          dataTable['output_type'] = 'display_data';\n",
              "          await google.colab.output.renderOutput(dataTable, element);\n",
              "          const docLink = document.createElement('div');\n",
              "          docLink.innerHTML = docLinkHtml;\n",
              "          element.appendChild(docLink);\n",
              "        }\n",
              "      </script>\n",
              "    </div>\n",
              "  </div>\n",
              "  "
            ]
          },
          "metadata": {},
          "execution_count": 8
        }
      ]
    },
    {
      "cell_type": "code",
      "source": [
        "print('Number of Rows in Career_Stats_Passing.csv: ' + str(len(df_CSP)))"
      ],
      "metadata": {
        "colab": {
          "base_uri": "https://localhost:8080/"
        },
        "id": "PF5OXUU6x5Ep",
        "outputId": "fd546870-ccc5-4a1f-fa33-88d9ef4674b5"
      },
      "execution_count": 9,
      "outputs": [
        {
          "output_type": "stream",
          "name": "stdout",
          "text": [
            "Number of Rows in Career_Stats_Passing.csv: 8525\n"
          ]
        }
      ]
    },
    {
      "cell_type": "code",
      "source": [
        "df_CSP.isna().sum()"
      ],
      "metadata": {
        "colab": {
          "base_uri": "https://localhost:8080/"
        },
        "id": "rCo2tD_Xx-3f",
        "outputId": "9999bae7-0299-42d8-f240-483a299887f9"
      },
      "execution_count": 10,
      "outputs": [
        {
          "output_type": "execute_result",
          "data": {
            "text/plain": [
              "Player Id                            0\n",
              "Position                          7414\n",
              "Year                                 0\n",
              "Team                                 0\n",
              "Games Played                         0\n",
              "Passes Attempted                     0\n",
              "Passes Completed                     0\n",
              "Completion Percentage                0\n",
              "Pass Attempts Per Game               0\n",
              "Passing Yards                        0\n",
              "Passing Yards Per Attempt            0\n",
              "Passing Yards Per Game               0\n",
              "TD Passes                            0\n",
              "Percentage of TDs per Attempts       0\n",
              "Ints                                 0\n",
              "Int Rate                             0\n",
              "Longest Pass                         0\n",
              "Passes Longer than 20 Yards          0\n",
              "Passes Longer than 40 Yards          0\n",
              "Sacks                                0\n",
              "Sacked Yards Lost                    0\n",
              "Passer Rating                        0\n",
              "dtype: int64"
            ]
          },
          "metadata": {},
          "execution_count": 10
        }
      ]
    },
    {
      "cell_type": "code",
      "source": [
        "df_CSP.isna().sum().sum()"
      ],
      "metadata": {
        "colab": {
          "base_uri": "https://localhost:8080/"
        },
        "id": "Ts-41yNByCCo",
        "outputId": "30c40ca0-997d-4777-e941-9a6e11af7a16"
      },
      "execution_count": 11,
      "outputs": [
        {
          "output_type": "execute_result",
          "data": {
            "text/plain": [
              "7414"
            ]
          },
          "metadata": {},
          "execution_count": 11
        }
      ]
    },
    {
      "cell_type": "code",
      "source": [
        "df_CSP.describe()\n",
        "df_CSP.info()"
      ],
      "metadata": {
        "colab": {
          "base_uri": "https://localhost:8080/",
          "height": 818
        },
        "id": "c8PA_rrGyEjC",
        "outputId": "d328380c-e064-4ca7-c092-7ddd4ffb9e17"
      },
      "execution_count": 12,
      "outputs": [
        {
          "output_type": "execute_result",
          "data": {
            "text/plain": [
              "         Year  Games Played  Pass Attempts Per Game  Passer Rating\n",
              "count 8525.00       8525.00                 8525.00        8525.00\n",
              "mean  1982.05         10.29                    5.79          32.23\n",
              "std     23.82          5.31                   10.53          40.49\n",
              "min   1924.00          0.00                    0.00           0.00\n",
              "25%   1965.00          6.00                    0.00           0.00\n",
              "50%   1985.00         12.00                    0.00           0.00\n",
              "75%   2003.00         15.00                    5.90          64.90\n",
              "max   2016.00         17.00                   51.00         158.30"
            ],
            "text/html": [
              "\n",
              "  <div id=\"df-282cec5f-473a-4398-9e62-f2a8700e1da9\">\n",
              "    <div class=\"colab-df-container\">\n",
              "      <div>\n",
              "<style scoped>\n",
              "    .dataframe tbody tr th:only-of-type {\n",
              "        vertical-align: middle;\n",
              "    }\n",
              "\n",
              "    .dataframe tbody tr th {\n",
              "        vertical-align: top;\n",
              "    }\n",
              "\n",
              "    .dataframe thead th {\n",
              "        text-align: right;\n",
              "    }\n",
              "</style>\n",
              "<table border=\"1\" class=\"dataframe\">\n",
              "  <thead>\n",
              "    <tr style=\"text-align: right;\">\n",
              "      <th></th>\n",
              "      <th>Year</th>\n",
              "      <th>Games Played</th>\n",
              "      <th>Pass Attempts Per Game</th>\n",
              "      <th>Passer Rating</th>\n",
              "    </tr>\n",
              "  </thead>\n",
              "  <tbody>\n",
              "    <tr>\n",
              "      <th>count</th>\n",
              "      <td>8525.00</td>\n",
              "      <td>8525.00</td>\n",
              "      <td>8525.00</td>\n",
              "      <td>8525.00</td>\n",
              "    </tr>\n",
              "    <tr>\n",
              "      <th>mean</th>\n",
              "      <td>1982.05</td>\n",
              "      <td>10.29</td>\n",
              "      <td>5.79</td>\n",
              "      <td>32.23</td>\n",
              "    </tr>\n",
              "    <tr>\n",
              "      <th>std</th>\n",
              "      <td>23.82</td>\n",
              "      <td>5.31</td>\n",
              "      <td>10.53</td>\n",
              "      <td>40.49</td>\n",
              "    </tr>\n",
              "    <tr>\n",
              "      <th>min</th>\n",
              "      <td>1924.00</td>\n",
              "      <td>0.00</td>\n",
              "      <td>0.00</td>\n",
              "      <td>0.00</td>\n",
              "    </tr>\n",
              "    <tr>\n",
              "      <th>25%</th>\n",
              "      <td>1965.00</td>\n",
              "      <td>6.00</td>\n",
              "      <td>0.00</td>\n",
              "      <td>0.00</td>\n",
              "    </tr>\n",
              "    <tr>\n",
              "      <th>50%</th>\n",
              "      <td>1985.00</td>\n",
              "      <td>12.00</td>\n",
              "      <td>0.00</td>\n",
              "      <td>0.00</td>\n",
              "    </tr>\n",
              "    <tr>\n",
              "      <th>75%</th>\n",
              "      <td>2003.00</td>\n",
              "      <td>15.00</td>\n",
              "      <td>5.90</td>\n",
              "      <td>64.90</td>\n",
              "    </tr>\n",
              "    <tr>\n",
              "      <th>max</th>\n",
              "      <td>2016.00</td>\n",
              "      <td>17.00</td>\n",
              "      <td>51.00</td>\n",
              "      <td>158.30</td>\n",
              "    </tr>\n",
              "  </tbody>\n",
              "</table>\n",
              "</div>\n",
              "      <button class=\"colab-df-convert\" onclick=\"convertToInteractive('df-282cec5f-473a-4398-9e62-f2a8700e1da9')\"\n",
              "              title=\"Convert this dataframe to an interactive table.\"\n",
              "              style=\"display:none;\">\n",
              "        \n",
              "  <svg xmlns=\"http://www.w3.org/2000/svg\" height=\"24px\"viewBox=\"0 0 24 24\"\n",
              "       width=\"24px\">\n",
              "    <path d=\"M0 0h24v24H0V0z\" fill=\"none\"/>\n",
              "    <path d=\"M18.56 5.44l.94 2.06.94-2.06 2.06-.94-2.06-.94-.94-2.06-.94 2.06-2.06.94zm-11 1L8.5 8.5l.94-2.06 2.06-.94-2.06-.94L8.5 2.5l-.94 2.06-2.06.94zm10 10l.94 2.06.94-2.06 2.06-.94-2.06-.94-.94-2.06-.94 2.06-2.06.94z\"/><path d=\"M17.41 7.96l-1.37-1.37c-.4-.4-.92-.59-1.43-.59-.52 0-1.04.2-1.43.59L10.3 9.45l-7.72 7.72c-.78.78-.78 2.05 0 2.83L4 21.41c.39.39.9.59 1.41.59.51 0 1.02-.2 1.41-.59l7.78-7.78 2.81-2.81c.8-.78.8-2.07 0-2.86zM5.41 20L4 18.59l7.72-7.72 1.47 1.35L5.41 20z\"/>\n",
              "  </svg>\n",
              "      </button>\n",
              "      \n",
              "  <style>\n",
              "    .colab-df-container {\n",
              "      display:flex;\n",
              "      flex-wrap:wrap;\n",
              "      gap: 12px;\n",
              "    }\n",
              "\n",
              "    .colab-df-convert {\n",
              "      background-color: #E8F0FE;\n",
              "      border: none;\n",
              "      border-radius: 50%;\n",
              "      cursor: pointer;\n",
              "      display: none;\n",
              "      fill: #1967D2;\n",
              "      height: 32px;\n",
              "      padding: 0 0 0 0;\n",
              "      width: 32px;\n",
              "    }\n",
              "\n",
              "    .colab-df-convert:hover {\n",
              "      background-color: #E2EBFA;\n",
              "      box-shadow: 0px 1px 2px rgba(60, 64, 67, 0.3), 0px 1px 3px 1px rgba(60, 64, 67, 0.15);\n",
              "      fill: #174EA6;\n",
              "    }\n",
              "\n",
              "    [theme=dark] .colab-df-convert {\n",
              "      background-color: #3B4455;\n",
              "      fill: #D2E3FC;\n",
              "    }\n",
              "\n",
              "    [theme=dark] .colab-df-convert:hover {\n",
              "      background-color: #434B5C;\n",
              "      box-shadow: 0px 1px 3px 1px rgba(0, 0, 0, 0.15);\n",
              "      filter: drop-shadow(0px 1px 2px rgba(0, 0, 0, 0.3));\n",
              "      fill: #FFFFFF;\n",
              "    }\n",
              "  </style>\n",
              "\n",
              "      <script>\n",
              "        const buttonEl =\n",
              "          document.querySelector('#df-282cec5f-473a-4398-9e62-f2a8700e1da9 button.colab-df-convert');\n",
              "        buttonEl.style.display =\n",
              "          google.colab.kernel.accessAllowed ? 'block' : 'none';\n",
              "\n",
              "        async function convertToInteractive(key) {\n",
              "          const element = document.querySelector('#df-282cec5f-473a-4398-9e62-f2a8700e1da9');\n",
              "          const dataTable =\n",
              "            await google.colab.kernel.invokeFunction('convertToInteractive',\n",
              "                                                     [key], {});\n",
              "          if (!dataTable) return;\n",
              "\n",
              "          const docLinkHtml = 'Like what you see? Visit the ' +\n",
              "            '<a target=\"_blank\" href=https://colab.research.google.com/notebooks/data_table.ipynb>data table notebook</a>'\n",
              "            + ' to learn more about interactive tables.';\n",
              "          element.innerHTML = '';\n",
              "          dataTable['output_type'] = 'display_data';\n",
              "          await google.colab.output.renderOutput(dataTable, element);\n",
              "          const docLink = document.createElement('div');\n",
              "          docLink.innerHTML = docLinkHtml;\n",
              "          element.appendChild(docLink);\n",
              "        }\n",
              "      </script>\n",
              "    </div>\n",
              "  </div>\n",
              "  "
            ]
          },
          "metadata": {},
          "execution_count": 12
        },
        {
          "output_type": "stream",
          "name": "stdout",
          "text": [
            "<class 'pandas.core.frame.DataFrame'>\n",
            "Index: 8525 entries, Farris, Tom to Anderson, Bill\n",
            "Data columns (total 22 columns):\n",
            " #   Column                          Non-Null Count  Dtype  \n",
            "---  ------                          --------------  -----  \n",
            " 0   Player Id                       8525 non-null   object \n",
            " 1   Position                        1111 non-null   object \n",
            " 2   Year                            8525 non-null   int64  \n",
            " 3   Team                            8525 non-null   object \n",
            " 4   Games Played                    8525 non-null   int64  \n",
            " 5   Passes Attempted                8525 non-null   object \n",
            " 6   Passes Completed                8525 non-null   object \n",
            " 7   Completion Percentage           8525 non-null   object \n",
            " 8   Pass Attempts Per Game          8525 non-null   float64\n",
            " 9   Passing Yards                   8525 non-null   object \n",
            " 10  Passing Yards Per Attempt       8525 non-null   object \n",
            " 11  Passing Yards Per Game          8525 non-null   object \n",
            " 12  TD Passes                       8525 non-null   object \n",
            " 13  Percentage of TDs per Attempts  8525 non-null   object \n",
            " 14  Ints                            8525 non-null   object \n",
            " 15  Int Rate                        8525 non-null   object \n",
            " 16  Longest Pass                    8525 non-null   object \n",
            " 17  Passes Longer than 20 Yards     8525 non-null   object \n",
            " 18  Passes Longer than 40 Yards     8525 non-null   object \n",
            " 19  Sacks                           8525 non-null   object \n",
            " 20  Sacked Yards Lost               8525 non-null   object \n",
            " 21  Passer Rating                   8525 non-null   float64\n",
            "dtypes: float64(2), int64(2), object(18)\n",
            "memory usage: 1.5+ MB\n"
          ]
        }
      ]
    },
    {
      "cell_type": "markdown",
      "source": [
        "Annual Quarterback Performance = (passer ratingn * games playedx)Total Games Played that year"
      ],
      "metadata": {
        "id": "IxfqQO-IyLX_"
      }
    },
    {
      "cell_type": "code",
      "source": [
        "PRT = df_CSP['Passer Rating']\n",
        "GPD = df_CSP['Games Played']\n",
        "df_CSP.info()"
      ],
      "metadata": {
        "colab": {
          "base_uri": "https://localhost:8080/"
        },
        "id": "loO-UlWQyMxT",
        "outputId": "a992c207-7b9a-44a7-fc2a-0810aaf049dd"
      },
      "execution_count": 16,
      "outputs": [
        {
          "output_type": "stream",
          "name": "stdout",
          "text": [
            "<class 'pandas.core.frame.DataFrame'>\n",
            "Index: 8525 entries, Farris, Tom to Anderson, Bill\n",
            "Data columns (total 22 columns):\n",
            " #   Column                          Non-Null Count  Dtype  \n",
            "---  ------                          --------------  -----  \n",
            " 0   Player Id                       8525 non-null   object \n",
            " 1   Position                        1111 non-null   object \n",
            " 2   Year                            8525 non-null   int64  \n",
            " 3   Team                            8525 non-null   object \n",
            " 4   Games Played                    8525 non-null   int64  \n",
            " 5   Passes Attempted                8525 non-null   object \n",
            " 6   Passes Completed                8525 non-null   object \n",
            " 7   Completion Percentage           8525 non-null   object \n",
            " 8   Pass Attempts Per Game          8525 non-null   float64\n",
            " 9   Passing Yards                   8525 non-null   object \n",
            " 10  Passing Yards Per Attempt       8525 non-null   object \n",
            " 11  Passing Yards Per Game          8525 non-null   object \n",
            " 12  TD Passes                       8525 non-null   object \n",
            " 13  Percentage of TDs per Attempts  8525 non-null   object \n",
            " 14  Ints                            8525 non-null   object \n",
            " 15  Int Rate                        8525 non-null   object \n",
            " 16  Longest Pass                    8525 non-null   object \n",
            " 17  Passes Longer than 20 Yards     8525 non-null   object \n",
            " 18  Passes Longer than 40 Yards     8525 non-null   object \n",
            " 19  Sacks                           8525 non-null   object \n",
            " 20  Sacked Yards Lost               8525 non-null   object \n",
            " 21  Passer Rating                   8525 non-null   float64\n",
            "dtypes: float64(2), int64(2), object(18)\n",
            "memory usage: 1.7+ MB\n"
          ]
        }
      ]
    }
  ]
}